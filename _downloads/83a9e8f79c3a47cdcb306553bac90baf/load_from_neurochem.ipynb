{
  "cells": [
    {
      "cell_type": "code",
      "execution_count": null,
      "metadata": {
        "collapsed": false
      },
      "outputs": [],
      "source": [
        "%matplotlib inline"
      ]
    },
    {
      "cell_type": "markdown",
      "metadata": {},
      "source": [
        "\nConstruct Model From NeuroChem Files\n====================================\n\nThis tutorial illustrates how to manually load model from `NeuroChem files`_.\n\n    https://github.com/isayev/ASE_ANI/tree/master/ani_models\n"
      ]
    },
    {
      "cell_type": "markdown",
      "metadata": {},
      "source": [
        "To begin with, let's first import the modules we will use:\n\n"
      ]
    },
    {
      "cell_type": "code",
      "execution_count": null,
      "metadata": {
        "collapsed": false
      },
      "outputs": [],
      "source": [
        "import os\nimport torch\nimport torchani\nimport ase"
      ]
    },
    {
      "cell_type": "markdown",
      "metadata": {},
      "source": [
        "Now let's read constants from constant file and construct AEV computer.\n\n"
      ]
    },
    {
      "cell_type": "code",
      "execution_count": null,
      "metadata": {
        "collapsed": false
      },
      "outputs": [],
      "source": [
        "try:\n    path = os.path.dirname(os.path.realpath(__file__))\nexcept NameError:\n    path = os.getcwd()\nconst_file = os.path.join(path, '../torchani/resources/ani-1x_8x/rHCNO-5.2R_16-3.5A_a4-8.params')  # noqa: E501\nconsts = torchani.neurochem.Constants(const_file)\naev_computer = torchani.AEVComputer(**consts)"
      ]
    },
    {
      "cell_type": "markdown",
      "metadata": {},
      "source": [
        "Now let's read self energies and construct energy shifter.\n\n"
      ]
    },
    {
      "cell_type": "code",
      "execution_count": null,
      "metadata": {
        "collapsed": false
      },
      "outputs": [],
      "source": [
        "sae_file = os.path.join(path, '../torchani/resources/ani-1x_8x/sae_linfit.dat')  # noqa: E501\nenergy_shifter = torchani.neurochem.load_sae(sae_file)"
      ]
    },
    {
      "cell_type": "markdown",
      "metadata": {},
      "source": [
        "Now let's read a whole ensemble of models.\n\n"
      ]
    },
    {
      "cell_type": "code",
      "execution_count": null,
      "metadata": {
        "collapsed": false
      },
      "outputs": [],
      "source": [
        "model_prefix = os.path.join(path, '../torchani/resources/ani-1x_8x/train')  # noqa: E501\nensemble = torchani.neurochem.load_model_ensemble(consts.species, model_prefix, 8)  # noqa: E501"
      ]
    },
    {
      "cell_type": "markdown",
      "metadata": {},
      "source": [
        "Or alternatively a single model.\n\n"
      ]
    },
    {
      "cell_type": "code",
      "execution_count": null,
      "metadata": {
        "collapsed": false
      },
      "outputs": [],
      "source": [
        "model_dir = os.path.join(path, '../torchani/resources/ani-1x_8x/train0/networks')  # noqa: E501\nmodel = torchani.neurochem.load_model(consts.species, model_dir)"
      ]
    },
    {
      "cell_type": "markdown",
      "metadata": {},
      "source": [
        "You can create the pipeline of computing energies:\n(Coordinates) -[AEVComputer]-> (AEV) -[Neural Network]->\n(Raw energies) -[EnergyShifter]-> (Final energies)\nFrom using either the ensemble or a single model:\n\n"
      ]
    },
    {
      "cell_type": "code",
      "execution_count": null,
      "metadata": {
        "collapsed": false
      },
      "outputs": [],
      "source": [
        "nnp1 = torchani.nn.Sequential(aev_computer, ensemble, energy_shifter)\nnnp2 = torchani.nn.Sequential(aev_computer, model, energy_shifter)\nprint(nnp1)\nprint(nnp2)"
      ]
    },
    {
      "cell_type": "markdown",
      "metadata": {},
      "source": [
        "You can also create an ASE calculator using the ensemble or single model:\n\n"
      ]
    },
    {
      "cell_type": "code",
      "execution_count": null,
      "metadata": {
        "collapsed": false
      },
      "outputs": [],
      "source": [
        "calculator1 = torchani.ase.Calculator(consts.species, nnp1)\ncalculator2 = torchani.ase.Calculator(consts.species, nnp2)\nprint(calculator1)\nprint(calculator1)"
      ]
    },
    {
      "cell_type": "markdown",
      "metadata": {},
      "source": [
        "Now let's define a methane molecule\n\n"
      ]
    },
    {
      "cell_type": "code",
      "execution_count": null,
      "metadata": {
        "collapsed": false
      },
      "outputs": [],
      "source": [
        "coordinates = torch.tensor([[[0.03192167, 0.00638559, 0.01301679],\n                             [-0.83140486, 0.39370209, -0.26395324],\n                             [-0.66518241, -0.84461308, 0.20759389],\n                             [0.45554739, 0.54289633, 0.81170881],\n                             [0.66091919, -0.16799635, -0.91037834]]],\n                           requires_grad=True)\nspecies = consts.species_to_tensor('CHHHH').unsqueeze(0)\nmethane = ase.Atoms('CHHHH', positions=coordinates.squeeze().detach().numpy())"
      ]
    },
    {
      "cell_type": "markdown",
      "metadata": {},
      "source": [
        "Now let's compute energies using the ensemble directly:\n\n"
      ]
    },
    {
      "cell_type": "code",
      "execution_count": null,
      "metadata": {
        "collapsed": false
      },
      "outputs": [],
      "source": [
        "energy = nnp1((species, coordinates)).energies\nderivative = torch.autograd.grad(energy.sum(), coordinates)[0]\nforce = -derivative\nprint('Energy:', energy.item())\nprint('Force:', force.squeeze())"
      ]
    },
    {
      "cell_type": "markdown",
      "metadata": {},
      "source": [
        "And using the ASE interface of the ensemble:\n\n"
      ]
    },
    {
      "cell_type": "code",
      "execution_count": null,
      "metadata": {
        "collapsed": false
      },
      "outputs": [],
      "source": [
        "methane.set_calculator(calculator1)\nprint('Energy:', methane.get_potential_energy() / ase.units.Hartree)\nprint('Force:', methane.get_forces() / ase.units.Hartree)"
      ]
    },
    {
      "cell_type": "markdown",
      "metadata": {},
      "source": [
        "We can do the same thing with the single model:\n\n"
      ]
    },
    {
      "cell_type": "code",
      "execution_count": null,
      "metadata": {
        "collapsed": false
      },
      "outputs": [],
      "source": [
        "energy = nnp2((species, coordinates)).energies\nderivative = torch.autograd.grad(energy.sum(), coordinates)[0]\nforce = -derivative\nprint('Energy:', energy.item())\nprint('Force:', force.squeeze())\n\nmethane.set_calculator(calculator2)\nprint('Energy:', methane.get_potential_energy() / ase.units.Hartree)\nprint('Force:', methane.get_forces() / ase.units.Hartree)"
      ]
    }
  ],
  "metadata": {
    "kernelspec": {
      "display_name": "Python 3",
      "language": "python",
      "name": "python3"
    },
    "language_info": {
      "codemirror_mode": {
        "name": "ipython",
        "version": 3
      },
      "file_extension": ".py",
      "mimetype": "text/x-python",
      "name": "python",
      "nbconvert_exporter": "python",
      "pygments_lexer": "ipython3",
      "version": "3.7.5"
    }
  },
  "nbformat": 4,
  "nbformat_minor": 0
}