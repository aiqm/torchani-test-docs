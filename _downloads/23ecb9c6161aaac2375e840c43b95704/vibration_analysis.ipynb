{
  "cells": [
    {
      "cell_type": "code",
      "execution_count": null,
      "metadata": {
        "collapsed": false
      },
      "outputs": [],
      "source": [
        "%matplotlib inline"
      ]
    },
    {
      "cell_type": "markdown",
      "metadata": {},
      "source": [
        "\nComputing Vibrational Frequencies Using Analytical Hessian\n==========================================================\n\nTorchANI is able to use ASE interface to do structure optimization and\nvibration analysis, but the Hessian in ASE's vibration analysis is computed\nnumerically, which is slow and less accurate.\n\nTorchANI therefore provide an interface to compute the Hessian matrix and do\nvibration analysis analytically, thanks to the super power of `torch.autograd`.\n"
      ]
    },
    {
      "cell_type": "code",
      "execution_count": null,
      "metadata": {
        "collapsed": false
      },
      "outputs": [],
      "source": [
        "import ase\nimport ase.optimize\nimport torch\nimport torchani\nimport math"
      ]
    },
    {
      "cell_type": "markdown",
      "metadata": {},
      "source": [
        "Let's now manually specify the device we want TorchANI to run:\n\n"
      ]
    },
    {
      "cell_type": "code",
      "execution_count": null,
      "metadata": {
        "collapsed": false
      },
      "outputs": [],
      "source": [
        "model = torchani.models.ANI1x().double()"
      ]
    },
    {
      "cell_type": "markdown",
      "metadata": {},
      "source": [
        "Let's first construct a water molecule and do structure optimization:\n\n"
      ]
    },
    {
      "cell_type": "code",
      "execution_count": null,
      "metadata": {
        "collapsed": false
      },
      "outputs": [],
      "source": [
        "d = 0.9575\nt = math.pi / 180 * 104.51\nmolecule = ase.Atoms('H2O', positions=[\n    (d, 0, 0),\n    (d * math.cos(t), d * math.sin(t), 0),\n    (0, 0, 0),\n], calculator=model.ase())\nopt = ase.optimize.BFGS(molecule)\nopt.run(fmax=1e-6)"
      ]
    },
    {
      "cell_type": "markdown",
      "metadata": {},
      "source": [
        "Now let's extract coordinates and species from ASE to use it directly with\nTorchANI:\n\n"
      ]
    },
    {
      "cell_type": "code",
      "execution_count": null,
      "metadata": {
        "collapsed": false
      },
      "outputs": [],
      "source": [
        "species = model.species_to_tensor(molecule.get_chemical_symbols()).unsqueeze(0)\ncoordinates = torch.from_numpy(molecule.get_positions()).unsqueeze(0).requires_grad_(True)"
      ]
    },
    {
      "cell_type": "markdown",
      "metadata": {},
      "source": [
        "TorchANI needs to know the mass of each atom in amu in order to do vibration\nanalysis:\n\n"
      ]
    },
    {
      "cell_type": "code",
      "execution_count": null,
      "metadata": {
        "collapsed": false
      },
      "outputs": [],
      "source": [
        "element_masses = torch.tensor([\n    1.008,  # H\n    12.011,  # C\n    14.007,  # N\n    15.999,  # O\n], dtype=torch.double)\nmasses = element_masses[species]"
      ]
    },
    {
      "cell_type": "markdown",
      "metadata": {},
      "source": [
        "To do vibration analysis, we first need to generate a graph that computes\nenergies from species and coordinates. The code to generate a graph of energy\nis the same as the code to compute energy:\n\n"
      ]
    },
    {
      "cell_type": "code",
      "execution_count": null,
      "metadata": {
        "collapsed": false
      },
      "outputs": [],
      "source": [
        "energies = model((species, coordinates)).energies"
      ]
    },
    {
      "cell_type": "markdown",
      "metadata": {},
      "source": [
        "We can now use the energy graph to compute analytical Hessian matrix:\n\n"
      ]
    },
    {
      "cell_type": "code",
      "execution_count": null,
      "metadata": {
        "collapsed": false
      },
      "outputs": [],
      "source": [
        "hessian = torchani.utils.hessian(coordinates, energies=energies)"
      ]
    },
    {
      "cell_type": "markdown",
      "metadata": {},
      "source": [
        "The Hessian matrix should have shape `(1, 9, 9)`, where 1 means there is only\none molecule to compute, 9 means `3 atoms * 3D space = 9 degree of freedom`.\n\n"
      ]
    },
    {
      "cell_type": "code",
      "execution_count": null,
      "metadata": {
        "collapsed": false
      },
      "outputs": [],
      "source": [
        "print(hessian.shape)"
      ]
    },
    {
      "cell_type": "markdown",
      "metadata": {},
      "source": [
        "We are now ready to compute vibrational frequencies. The output has unit\ncm^-1. Since there are in total 9 degree of freedom, there are in total 9\nfrequencies. Only the frequencies of the 3 vibrational modes are interesting.\n\n"
      ]
    },
    {
      "cell_type": "code",
      "execution_count": null,
      "metadata": {
        "collapsed": false
      },
      "outputs": [],
      "source": [
        "freq, modes = torchani.utils.vibrational_analysis(masses, hessian)\nfreq = freq[-3:]\nmodes = modes[-3:]\n\nprint('Frequencies (cm^-1):', freq)\nprint('Modes:', modes)"
      ]
    }
  ],
  "metadata": {
    "kernelspec": {
      "display_name": "Python 3",
      "language": "python",
      "name": "python3"
    },
    "language_info": {
      "codemirror_mode": {
        "name": "ipython",
        "version": 3
      },
      "file_extension": ".py",
      "mimetype": "text/x-python",
      "name": "python",
      "nbconvert_exporter": "python",
      "pygments_lexer": "ipython3",
      "version": "3.7.5"
    }
  },
  "nbformat": 4,
  "nbformat_minor": 0
}