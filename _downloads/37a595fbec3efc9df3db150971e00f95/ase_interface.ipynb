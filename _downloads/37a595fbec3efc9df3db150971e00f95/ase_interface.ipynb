{
  "cells": [
    {
      "cell_type": "code",
      "execution_count": null,
      "metadata": {
        "collapsed": false
      },
      "outputs": [],
      "source": [
        "%matplotlib inline"
      ]
    },
    {
      "cell_type": "markdown",
      "metadata": {},
      "source": [
        "\nStructure minimization and constant temperature MD using ASE interface\n======================================================================\n\nThis example is modified from the official `home page` and\n`Constant temperature MD`_ to use the ASE interface of TorchANI as energy\ncalculator.\n\n    https://wiki.fysik.dtu.dk/ase/\n    https://wiki.fysik.dtu.dk/ase/tutorials/md/md.html#constant-temperature-md\n"
      ]
    },
    {
      "cell_type": "markdown",
      "metadata": {},
      "source": [
        "To begin with, let's first import the modules we will use:\n\n"
      ]
    },
    {
      "cell_type": "code",
      "execution_count": null,
      "metadata": {
        "collapsed": false
      },
      "outputs": [],
      "source": [
        "from __future__ import print_function\nfrom ase.lattice.cubic import Diamond\nfrom ase.md.langevin import Langevin\nfrom ase.optimize import BFGS\nfrom ase import units\nimport torchani"
      ]
    },
    {
      "cell_type": "markdown",
      "metadata": {},
      "source": [
        "Now let's set up a crystal\n\n"
      ]
    },
    {
      "cell_type": "code",
      "execution_count": null,
      "metadata": {
        "collapsed": false
      },
      "outputs": [],
      "source": [
        "atoms = Diamond(symbol=\"C\", pbc=True)\nprint(len(atoms), \"atoms in the cell\")"
      ]
    },
    {
      "cell_type": "markdown",
      "metadata": {},
      "source": [
        "Now let's create a calculator from builtin models:\n\n"
      ]
    },
    {
      "cell_type": "code",
      "execution_count": null,
      "metadata": {
        "collapsed": false
      },
      "outputs": [],
      "source": [
        "calculator = torchani.models.ANI1ccx().ase()"
      ]
    },
    {
      "cell_type": "markdown",
      "metadata": {},
      "source": [
        "<div class=\"alert alert-info\"><h4>Note</h4><p>Regardless of the dtype you use in your model, when converting it to ASE\n    calculator, it always automatically the dtype to ``torch.float64``. The\n    reason for this behavior is, at many cases, the rounding error is too\n    large for structure minimization. If you insist on using\n    ``torch.float32``, do the following instead:\n\n    .. code-block:: python\n\n        calculator = torchani.models.ANI1ccx().ase(dtype=torch.float32)</p></div>\n\n"
      ]
    },
    {
      "cell_type": "markdown",
      "metadata": {},
      "source": [
        "Now let's set the calculator for ``atoms``:\n\n"
      ]
    },
    {
      "cell_type": "code",
      "execution_count": null,
      "metadata": {
        "collapsed": false
      },
      "outputs": [],
      "source": [
        "atoms.set_calculator(calculator)"
      ]
    },
    {
      "cell_type": "markdown",
      "metadata": {},
      "source": [
        "Now let's minimize the structure:\n\n"
      ]
    },
    {
      "cell_type": "code",
      "execution_count": null,
      "metadata": {
        "collapsed": false
      },
      "outputs": [],
      "source": [
        "print(\"Begin minimizing...\")\nopt = BFGS(atoms)\nopt.run(fmax=0.001)\nprint()"
      ]
    },
    {
      "cell_type": "markdown",
      "metadata": {},
      "source": [
        "Now create a callback function that print interesting physical quantities:\n\n"
      ]
    },
    {
      "cell_type": "code",
      "execution_count": null,
      "metadata": {
        "collapsed": false
      },
      "outputs": [],
      "source": [
        "def printenergy(a=atoms):\n    \"\"\"Function to print the potential, kinetic and total energy.\"\"\"\n    epot = a.get_potential_energy() / len(a)\n    ekin = a.get_kinetic_energy() / len(a)\n    print('Energy per atom: Epot = %.3feV  Ekin = %.3feV (T=%3.0fK)  '\n          'Etot = %.3feV' % (epot, ekin, ekin / (1.5 * units.kB), epot + ekin))"
      ]
    },
    {
      "cell_type": "markdown",
      "metadata": {},
      "source": [
        "We want to run MD with constant energy using the Langevin algorithm\nwith a time step of 1 fs, the temperature 300K and the friction\ncoefficient to 0.02 atomic units.\n\n"
      ]
    },
    {
      "cell_type": "code",
      "execution_count": null,
      "metadata": {
        "collapsed": false
      },
      "outputs": [],
      "source": [
        "dyn = Langevin(atoms, 1 * units.fs, 300 * units.kB, 0.2)\ndyn.attach(printenergy, interval=50)"
      ]
    },
    {
      "cell_type": "markdown",
      "metadata": {},
      "source": [
        "Now run the dynamics:\n\n"
      ]
    },
    {
      "cell_type": "code",
      "execution_count": null,
      "metadata": {
        "collapsed": false
      },
      "outputs": [],
      "source": [
        "print(\"Beginning dynamics...\")\nprintenergy()\ndyn.run(500)"
      ]
    }
  ],
  "metadata": {
    "kernelspec": {
      "display_name": "Python 3",
      "language": "python",
      "name": "python3"
    },
    "language_info": {
      "codemirror_mode": {
        "name": "ipython",
        "version": 3
      },
      "file_extension": ".py",
      "mimetype": "text/x-python",
      "name": "python",
      "nbconvert_exporter": "python",
      "pygments_lexer": "ipython3",
      "version": "3.7.4"
    }
  },
  "nbformat": 4,
  "nbformat_minor": 0
}