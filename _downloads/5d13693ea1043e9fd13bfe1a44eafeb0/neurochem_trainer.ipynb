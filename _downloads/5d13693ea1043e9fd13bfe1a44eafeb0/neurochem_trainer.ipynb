{
  "cells": [
    {
      "cell_type": "code",
      "execution_count": null,
      "metadata": {
        "collapsed": false
      },
      "outputs": [],
      "source": [
        "%matplotlib inline"
      ]
    },
    {
      "cell_type": "markdown",
      "metadata": {},
      "source": [
        "\n\nTrain Neural Network Potential From NeuroChem Input File\n========================================================\n\nThis example shows how to use TorchANI's NeuroChem trainer to read and run\nNeuroChem's training config file to train a neural network potential.\n"
      ]
    },
    {
      "cell_type": "markdown",
      "metadata": {},
      "source": [
        "To begin with, let's first import the modules we will use:\n\n"
      ]
    },
    {
      "cell_type": "code",
      "execution_count": null,
      "metadata": {
        "collapsed": false
      },
      "outputs": [],
      "source": [
        "import torchani\nimport torch\nimport os\nimport sys\nimport tqdm"
      ]
    },
    {
      "cell_type": "markdown",
      "metadata": {},
      "source": [
        "Now let's setup path for the dataset and NeuroChem input file. Note that\nthese paths assumes the user run this script under the ``examples`` directory\nof TorchANI's repository. If you download this script, you should manually\nset the path of these files in your system before this script can run\nsuccessfully. Also note that here for our demo purpose, we set both training\nset and validation set the ``ani_gdb_s01.h5`` in TorchANI's repository. This\nallows this program to finish very quick, because that dataset is very small.\nBut this is wrong and should be avoided for any serious training.\n\n"
      ]
    },
    {
      "cell_type": "code",
      "execution_count": null,
      "metadata": {
        "collapsed": false
      },
      "outputs": [],
      "source": [
        "try:\n    path = os.path.dirname(os.path.realpath(__file__))\nexcept NameError:\n    path = os.getcwd()\ncfg_path = os.path.join(path, '../tests/test_data/inputtrain.ipt')\ntraining_path = os.path.join(path, '../dataset/ani1-up_to_gdb4/ani_gdb_s01.h5')  # noqa: E501\nvalidation_path = os.path.join(path, '../dataset/ani1-up_to_gdb4/ani_gdb_s01.h5')  # noqa: E501"
      ]
    },
    {
      "cell_type": "markdown",
      "metadata": {},
      "source": [
        "We also need to set the device to run the training:\n\n"
      ]
    },
    {
      "cell_type": "code",
      "execution_count": null,
      "metadata": {
        "collapsed": false
      },
      "outputs": [],
      "source": [
        "device_str = 'cuda' if torch.cuda.is_available() else 'cpu'\ndevice = torch.device(device_str)\n\n\ntrainer = torchani.neurochem.Trainer(cfg_path, device, True, 'runs')\ntrainer.load_data(training_path, validation_path)"
      ]
    },
    {
      "cell_type": "markdown",
      "metadata": {},
      "source": [
        "Once everything is set up, running NeuroChem is very easy. We simplify need a\n``trainer.run()``. But here, in order for sphinx-gallery to be able to\ncapture the output of tqdm, let's do some hacking first to make tqdm to print\nits progressbar to stdout.\n\n"
      ]
    },
    {
      "cell_type": "code",
      "execution_count": null,
      "metadata": {
        "collapsed": false
      },
      "outputs": [],
      "source": [
        "def my_tqdm(*args, **kwargs):\n    return tqdm.tqdm(*args, **kwargs, file=sys.stdout)\n\n\ntrainer.tqdm = my_tqdm"
      ]
    },
    {
      "cell_type": "markdown",
      "metadata": {},
      "source": [
        "Now, let's go!\n\n"
      ]
    },
    {
      "cell_type": "code",
      "execution_count": null,
      "metadata": {
        "collapsed": false
      },
      "outputs": [],
      "source": [
        "trainer.run()"
      ]
    },
    {
      "cell_type": "markdown",
      "metadata": {},
      "source": [
        "Alternatively, you can run NeuroChem trainer directly using command line.\nThere is no need for programming. Just run the following command for help\n``python -m torchani.neurochem.trainer -h`` for usage. For this demo, the\nequivalent command is:\n\n"
      ]
    },
    {
      "cell_type": "code",
      "execution_count": null,
      "metadata": {
        "collapsed": false
      },
      "outputs": [],
      "source": [
        "cmd = ['python', '-m', 'torchani.neurochem.trainer', '-d', device_str,\n       '--tqdm', '--tensorboard', 'runs', cfg_path, training_path,\n       validation_path]\nprint(' '.join(cmd))"
      ]
    },
    {
      "cell_type": "markdown",
      "metadata": {},
      "source": [
        "Now let's invoke this command to see what we get. Again, we redirect stderr\nto stdout simplify for sphinx-gallery to be able to capture it when\ngenerating this document:\n\n"
      ]
    },
    {
      "cell_type": "code",
      "execution_count": null,
      "metadata": {
        "collapsed": false
      },
      "outputs": [],
      "source": [
        "from subprocess import Popen, PIPE  # noqa: E402\nprint(Popen(cmd, stderr=PIPE).stderr.read().decode('utf-8'))"
      ]
    }
  ],
  "metadata": {
    "kernelspec": {
      "display_name": "Python 3",
      "language": "python",
      "name": "python3"
    },
    "language_info": {
      "codemirror_mode": {
        "name": "ipython",
        "version": 3
      },
      "file_extension": ".py",
      "mimetype": "text/x-python",
      "name": "python",
      "nbconvert_exporter": "python",
      "pygments_lexer": "ipython3",
      "version": "3.7.5"
    }
  },
  "nbformat": 4,
  "nbformat_minor": 0
}