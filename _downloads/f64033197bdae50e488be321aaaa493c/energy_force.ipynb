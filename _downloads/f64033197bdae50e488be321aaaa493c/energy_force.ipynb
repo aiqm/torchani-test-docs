{
  "cells": [
    {
      "cell_type": "code",
      "execution_count": null,
      "metadata": {
        "collapsed": false
      },
      "outputs": [],
      "source": [
        "%matplotlib inline"
      ]
    },
    {
      "cell_type": "markdown",
      "metadata": {},
      "source": [
        "\nComputing Energy and Force Using Models Inside Model Zoo\n========================================================\n\nTorchANI has a model zoo trained by NeuroChem. These models are shipped with\nTorchANI and can be used directly.\n"
      ]
    },
    {
      "cell_type": "markdown",
      "metadata": {},
      "source": [
        "To begin with, let's first import the modules we will use:\n\n"
      ]
    },
    {
      "cell_type": "code",
      "execution_count": null,
      "metadata": {
        "collapsed": false
      },
      "outputs": [],
      "source": [
        "import torch\nimport torchani"
      ]
    },
    {
      "cell_type": "markdown",
      "metadata": {},
      "source": [
        "Let's now manually specify the device we want TorchANI to run:\n\n"
      ]
    },
    {
      "cell_type": "code",
      "execution_count": null,
      "metadata": {
        "collapsed": false
      },
      "outputs": [],
      "source": [
        "device = torch.device('cpu')"
      ]
    },
    {
      "cell_type": "markdown",
      "metadata": {},
      "source": [
        "Let's now load the built-in ANI-1ccx models. The builtin ANI-1ccx contains 8\nmodels trained with diffrent initialization. Predicting the energy and force\nusing the average of the 8 models outperform using a single model, so it is\nalways recommended to use an ensemble, unless the speed of computation is an\nissue in your application.\n\n"
      ]
    },
    {
      "cell_type": "code",
      "execution_count": null,
      "metadata": {
        "collapsed": false
      },
      "outputs": [],
      "source": [
        "model = torchani.models.ANI1ccx()"
      ]
    },
    {
      "cell_type": "markdown",
      "metadata": {},
      "source": [
        "Now let's define the coordinate and species. If you just want to compute the\nenergy and force for a single structure like in this example, you need to\nmake the coordinate tensor has shape ``(1, Na, 3)`` and species has shape\n``(1, Na)``, where ``Na`` is the number of atoms in the molecule, the\npreceding ``1`` in the shape is here to support batch processing like in\ntraining. If you have ``N`` different structures to compute, then make it\n``N``.\n\nThe coordinates are in Angstrom, and the energies you get are in Hartree\n\n"
      ]
    },
    {
      "cell_type": "code",
      "execution_count": null,
      "metadata": {
        "collapsed": false
      },
      "outputs": [],
      "source": [
        "coordinates = torch.tensor([[[0.03192167, 0.00638559, 0.01301679],\n                             [-0.83140486, 0.39370209, -0.26395324],\n                             [-0.66518241, -0.84461308, 0.20759389],\n                             [0.45554739, 0.54289633, 0.81170881],\n                             [0.66091919, -0.16799635, -0.91037834]]],\n                           requires_grad=True, device=device)\nspecies = model.species_to_tensor('CHHHH').to(device).unsqueeze(0)"
      ]
    },
    {
      "cell_type": "markdown",
      "metadata": {},
      "source": [
        "Now let's compute energy and force:\n\n"
      ]
    },
    {
      "cell_type": "code",
      "execution_count": null,
      "metadata": {
        "collapsed": false
      },
      "outputs": [],
      "source": [
        "energy = model((species, coordinates)).energies\nderivative = torch.autograd.grad(energy.sum(), coordinates)[0]\nforce = -derivative"
      ]
    },
    {
      "cell_type": "markdown",
      "metadata": {},
      "source": [
        "And print to see the result:\n\n"
      ]
    },
    {
      "cell_type": "code",
      "execution_count": null,
      "metadata": {
        "collapsed": false
      },
      "outputs": [],
      "source": [
        "print('Energy:', energy.item())\nprint('Force:', force.squeeze())"
      ]
    }
  ],
  "metadata": {
    "kernelspec": {
      "display_name": "Python 3",
      "language": "python",
      "name": "python3"
    },
    "language_info": {
      "codemirror_mode": {
        "name": "ipython",
        "version": 3
      },
      "file_extension": ".py",
      "mimetype": "text/x-python",
      "name": "python",
      "nbconvert_exporter": "python",
      "pygments_lexer": "ipython3",
      "version": "3.7.5"
    }
  },
  "nbformat": 4,
  "nbformat_minor": 0
}